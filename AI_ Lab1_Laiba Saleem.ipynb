{
 "cells": [
  {
   "cell_type": "markdown",
   "id": "6b26ab52-fed5-444f-83e1-b76599bffcd1",
   "metadata": {},
   "source": [
    "Task_1"
   ]
  },
  {
   "cell_type": "markdown",
   "id": "50cfa0c2-78ea-409c-8065-86620e33ccd5",
   "metadata": {},
   "source": [
    "Store Student Info"
   ]
  },
  {
   "cell_type": "code",
   "execution_count": 2,
   "id": "ab191b22-2069-4ce5-a5b9-998e24682b3b",
   "metadata": {},
   "outputs": [
    {
     "name": "stdout",
     "output_type": "stream",
     "text": [
      "Name: Ali\n",
      "Roll No 23\n",
      "CGPA 3.4\n"
     ]
    }
   ],
   "source": [
    "#Store student info\n",
    "name = \"Ali\"\n",
    "roll_no = 23\n",
    "cgpa = 3.4\n",
    "print(\"Name:\", name)\n",
    "print(\"Roll No\", roll_no)\n",
    "print(\"CGPA\", cgpa)"
   ]
  },
  {
   "cell_type": "markdown",
   "id": "f0901231-e333-4268-a7a6-3c20a66515b0",
   "metadata": {},
   "source": [
    "Task_2"
   ]
  },
  {
   "cell_type": "markdown",
   "id": "e8dec8cc-ac0a-429a-bda2-c1ffe0d32023",
   "metadata": {},
   "source": [
    "The following Python code stores a student's **name**, **roll number**, and **CGPA** in variables.  \n",
    "Then it prints them using the `print()` function."
   ]
  },
  {
   "cell_type": "code",
   "execution_count": 1,
   "id": "be31074c-c77f-4686-9937-edd7212bd01b",
   "metadata": {},
   "outputs": [
    {
     "name": "stdout",
     "output_type": "stream",
     "text": [
      "Name: Laiba\n",
      "Roll No: 5\n",
      "CGPA: 3.49\n"
     ]
    }
   ],
   "source": [
    " \n",
    "#store student info\n",
    "name = \"Laiba\"\n",
    "roll_no =5\n",
    "cgpa = 3.49\n",
    "print(\"Name:\",name)\n",
    "print(\"Roll No:\", roll_no)\n",
    "print(\"CGPA:\",cgpa)"
   ]
  },
  {
   "cell_type": "markdown",
   "id": "083e7966-cd34-4b0d-9e2a-96bbf74f1d0c",
   "metadata": {},
   "source": [
    "Task_3"
   ]
  },
  {
   "cell_type": "markdown",
   "id": "7b82d88a-6a7c-4862-aa5b-c77abe68e3ec",
   "metadata": {},
   "source": [
    "We will use a `for` loop to print numbers from **1 to 10**.  "
   ]
  },
  {
   "cell_type": "code",
   "execution_count": 7,
   "id": "c9c22a85-61c6-4292-8875-0cb7210431db",
   "metadata": {},
   "outputs": [
    {
     "name": "stdout",
     "output_type": "stream",
     "text": [
      "1\n",
      "2\n",
      "3\n",
      "4\n",
      "5\n",
      "6\n",
      "7\n",
      "8\n",
      "9\n",
      "10\n"
     ]
    }
   ],
   "source": [
    "#print numbers 1 to 10\n",
    "for i in range(1,11):\n",
    "    print(i)"
   ]
  },
  {
   "cell_type": "markdown",
   "id": "35bdf42e-b7c7-4d19-bd23-f8f9a5a3655c",
   "metadata": {},
   "source": [
    "Task_4"
   ]
  },
  {
   "cell_type": "markdown",
   "id": "ca2d3dd6-5d22-43e2-bb97-2d32dd35fd2c",
   "metadata": {},
   "source": [
    "we will modify the code to print only **even numbers**."
   ]
  },
  {
   "cell_type": "code",
   "execution_count": 5,
   "id": "ae5d1cf9-b20a-44f4-8a52-d59caa6f4d44",
   "metadata": {},
   "outputs": [
    {
     "name": "stdout",
     "output_type": "stream",
     "text": [
      "2\n",
      "4\n",
      "6\n",
      "8\n",
      "10\n"
     ]
    }
   ],
   "source": [
    "#Print numbers 1 to 11\n",
    "for i in range(2, 11):\n",
    "    if(i%2==0):\n",
    "     print(i)"
   ]
  },
  {
   "cell_type": "markdown",
   "id": "b6b83684-13f2-43b1-bc61-7e171d64bdf8",
   "metadata": {},
   "source": [
    "Task_5"
   ]
  },
  {
   "cell_type": "markdown",
   "id": "c01c35b1-7678-43f9-b626-0fa5197770f3",
   "metadata": {},
   "source": [
    "We can calculate factorial in Python using a **for loop**."
   ]
  },
  {
   "cell_type": "code",
   "execution_count": 39,
   "id": "480175da-a3b7-40c0-aae6-c8d3f6125f8d",
   "metadata": {},
   "outputs": [
    {
     "name": "stdout",
     "output_type": "stream",
     "text": [
      "Factorial of 5: 120\n"
     ]
    }
   ],
   "source": [
    "#function to calculate factorial\n",
    "def factorial(n):\n",
    "    result = 1\n",
    "    for i in range(1,n+1):\n",
    "        result *= i\n",
    "    return result\n",
    "print(\"Factorial of 5:\",factorial(5))"
   ]
  },
  {
   "cell_type": "markdown",
   "id": "b4b5418c-84d4-4f86-a765-646b38861ad5",
   "metadata": {},
   "source": [
    "Task_6"
   ]
  },
  {
   "cell_type": "markdown",
   "id": "25f7fe40-135a-458f-97f6-ea4a46c606f3",
   "metadata": {},
   "source": [
    "The **factorial** of a number `n`  is the product of all positive integers less than or equal to `n`.  \n",
    "For example:  \n",
    "- 4! =  4 × 3 × 2 × 1 = 24"
   ]
  },
  {
   "cell_type": "code",
   "execution_count": 6,
   "id": "092007c7-978e-4802-b60a-ccf5640cf5ed",
   "metadata": {},
   "outputs": [
    {
     "name": "stdin",
     "output_type": "stream",
     "text": [
      "Enter a number 4\n"
     ]
    },
    {
     "name": "stdout",
     "output_type": "stream",
     "text": [
      "Factorial of n: 24\n"
     ]
    }
   ],
   "source": [
    "n=int(input(\"Enter a number\"))\n",
    "def factorial(n):\n",
    "    result = 1\n",
    "    for i in range(1, n+1):\n",
    "        result*= i\n",
    "    return result\n",
    "print(\"Factorial of n:\", factorial(n))"
   ]
  },
  {
   "cell_type": "markdown",
   "id": "a1f2d1d2-9197-4cec-8cbf-a7d0ee861f4e",
   "metadata": {},
   "source": [
    "Task_7"
   ]
  },
  {
   "cell_type": "markdown",
   "id": "41b07400-3898-4b54-b82c-cb46db802f61",
   "metadata": {},
   "source": [
    "Input"
   ]
  },
  {
   "cell_type": "code",
   "execution_count": 14,
   "id": "656bda1e-2bb3-4c71-9245-17630cb58f3a",
   "metadata": {},
   "outputs": [
    {
     "name": "stdin",
     "output_type": "stream",
     "text": [
      "Enter marks:  55\n"
     ]
    },
    {
     "name": "stdout",
     "output_type": "stream",
     "text": [
      "Pass\n"
     ]
    }
   ],
   "source": [
    "marks = int(input(\"Enter marks: \"))\n",
    "if marks >= 50:\n",
    "    print(\"Pass\")\n",
    "else:\n",
    "    print(\"Fail\")"
   ]
  },
  {
   "cell_type": "markdown",
   "id": "f9e647e3-7c04-4d02-9736-dbb2ccd51ad5",
   "metadata": {},
   "source": [
    "Task_8"
   ]
  },
  {
   "cell_type": "markdown",
   "id": "c1606282-2f0f-42c6-99b7-26934dcb0da1",
   "metadata": {},
   "source": [
    "# Grading System in Python\n",
    "\n",
    "We use **if-elif-else** conditions to assign grades based on marks."
   ]
  },
  {
   "cell_type": "code",
   "execution_count": 7,
   "id": "6931c75e-8543-4795-9ab1-8472fa464ccd",
   "metadata": {},
   "outputs": [
    {
     "name": "stdin",
     "output_type": "stream",
     "text": [
      "Enter marks 85\n"
     ]
    },
    {
     "name": "stdout",
     "output_type": "stream",
     "text": [
      "Grade A\n"
     ]
    }
   ],
   "source": [
    "marks = int(input(\"Enter marks\"))\n",
    "if marks >=80:\n",
    "    print(\"Grade A\")\n",
    "elif marks >=60:\n",
    "     print(\"Grade B\")\n",
    "elif marks >=50:\n",
    "     print(\"Grade C\")\n",
    "else:\n",
    "     print(\"Fail\")"
   ]
  }
 ],
 "metadata": {
  "kernelspec": {
   "display_name": "Python 3 (ipykernel)",
   "language": "python",
   "name": "python3"
  },
  "language_info": {
   "codemirror_mode": {
    "name": "ipython",
    "version": 3
   },
   "file_extension": ".py",
   "mimetype": "text/x-python",
   "name": "python",
   "nbconvert_exporter": "python",
   "pygments_lexer": "ipython3",
   "version": "3.13.5"
  }
 },
 "nbformat": 4,
 "nbformat_minor": 5
}
